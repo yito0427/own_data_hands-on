{
 "cells": [
  {
   "cell_type": "markdown",
   "id": "d7052731-df96-46fd-87dd-4bbe7b62e56e",
   "metadata": {},
   "source": [
    "# 予測と実績を可視化する\n",
    "\n",
    "03で、予測結果のdownloadまで完了している。\n",
    "\n",
    "* 実績を格納\n",
    "* 予測と実績を読み込み\n",
    "* 可視化\n"
   ]
  },
  {
   "cell_type": "code",
   "execution_count": null,
   "id": "513142b8-fdcb-4d41-afc6-3d3b2aa4ff93",
   "metadata": {},
   "outputs": [],
   "source": []
  },
  {
   "cell_type": "code",
   "execution_count": null,
   "id": "20907903-3fcf-46cc-84c3-f1d71d04bb0a",
   "metadata": {},
   "outputs": [],
   "source": []
  },
  {
   "cell_type": "code",
   "execution_count": null,
   "id": "1ee64dde-d53b-49c7-a845-e533b027924d",
   "metadata": {},
   "outputs": [],
   "source": []
  },
  {
   "cell_type": "code",
   "execution_count": null,
   "id": "a2ec3895-b07a-4822-b7c3-fa39817557e9",
   "metadata": {},
   "outputs": [],
   "source": []
  },
  {
   "cell_type": "markdown",
   "id": "7cc33fce-16ce-4bb1-a979-8b996e703f3d",
   "metadata": {},
   "source": [
    "# 結果をもとに、ハンズオンを企画する\n",
    "\n",
    "お客様が「やってみよう」と思われるようなシナリオを考えます\n",
    "\n",
    "* どのデータを使うか\n",
    "* 午前と午後に分けて実施 or 横山さんの資材を使って3分クッキング方式で実施(2h)\n",
    "* よかったアイテム、悪かったアイテムを提示\n",
    "* 今後の方針を提示：どのようなデータを入れるか、ドメイン知識を元にデータを加工していく\n",
    "\n",
    "＜追加データの例＞\n",
    "* aaa\n",
    "* bbb\n",
    "* ccc\n"
   ]
  },
  {
   "cell_type": "code",
   "execution_count": null,
   "id": "8ec8f4ec-14dd-4ea2-9954-8db2405ccc5a",
   "metadata": {},
   "outputs": [],
   "source": []
  }
 ],
 "metadata": {
  "instance_type": "ml.t3.medium",
  "kernelspec": {
   "display_name": "Python 3 (Data Science)",
   "language": "python",
   "name": "python3__SAGEMAKER_INTERNAL__arn:aws:sagemaker:us-east-2:429704687514:image/datascience-1.0"
  },
  "language_info": {
   "codemirror_mode": {
    "name": "ipython",
    "version": 3
   },
   "file_extension": ".py",
   "mimetype": "text/x-python",
   "name": "python",
   "nbconvert_exporter": "python",
   "pygments_lexer": "ipython3",
   "version": "3.7.10"
  }
 },
 "nbformat": 4,
 "nbformat_minor": 5
}
