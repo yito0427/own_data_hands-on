{
 "cells": [
  {
   "cell_type": "markdown",
   "id": "a0a71067-0c40-4890-84c0-6e5a56441fc1",
   "metadata": {},
   "source": [
    "# 週数と日付の変換\n",
    "\n",
    "https://dev.classmethod.jp/articles/python_week_numbers/"
   ]
  },
  {
   "cell_type": "markdown",
   "id": "15a313c9-a0a8-4f40-913d-25855bd41cdd",
   "metadata": {},
   "source": [
    "## 日付を週数に変換する場合"
   ]
  },
  {
   "cell_type": "code",
   "execution_count": 15,
   "id": "405dde1c-1f60-4917-81ac-ce8a8260a2a0",
   "metadata": {},
   "outputs": [
    {
     "name": "stdout",
     "output_type": "stream",
     "text": [
      "(2020, 53, 7)\n",
      "(2022, 33, 3)\n"
     ]
    }
   ],
   "source": [
    "from datetime import date\n",
    "import datetime\n",
    "\n",
    "# 2021年1月3日（日）は2020年第53週として扱われます\n",
    "print(date(2021, 1, 3).isocalendar())\n",
    "print(datetime.date.today().isocalendar())"
   ]
  },
  {
   "cell_type": "markdown",
   "id": "851e287a-5aa3-464f-95cd-af05e07f65c7",
   "metadata": {},
   "source": [
    "## 週数から日付を取得する場合"
   ]
  },
  {
   "cell_type": "code",
   "execution_count": 17,
   "id": "113c56c5-73d3-4f63-95b0-f35a6341a87f",
   "metadata": {},
   "outputs": [
    {
     "name": "stdout",
     "output_type": "stream",
     "text": [
      "2018-12-31\n",
      "2019-12-30\n",
      "2021-01-04\n",
      "2022-01-03\n",
      "2022-01-10\n",
      "2022-01-11\n",
      "2022-08-17\n"
     ]
    }
   ],
   "source": [
    "from datetime import date\n",
    "print(date.fromisocalendar(2019, 1, 1)) ### 2019年の週数1の1日目（月曜日）\n",
    "print(date.fromisocalendar(2020, 1, 1)) ### 2020年の週数1の1日目（月曜日）\n",
    "print(date.fromisocalendar(2021, 1, 1)) ### 2021年の週数1の1日目（月曜日）\n",
    "print(date.fromisocalendar(2022, 1, 1)) ### 2022年の週数1の1日目（月曜日）\n",
    "print(date.fromisocalendar(2022, 2, 1)) ### 2022年の週数2の1日目（月曜日）\n",
    "print(date.fromisocalendar(2022, 2, 2)) ### 2022年の週数2の2日目（火曜日）\n",
    "print(date.fromisocalendar(2022, 33, 3)) ### 2022年の週数33の3日目（水曜日）"
   ]
  },
  {
   "cell_type": "code",
   "execution_count": null,
   "id": "66512505-fa02-4778-9370-64479422c845",
   "metadata": {},
   "outputs": [],
   "source": []
  }
 ],
 "metadata": {
  "instance_type": "ml.t3.medium",
  "kernelspec": {
   "display_name": "Python 3 (Base Python 2.0)",
   "language": "python",
   "name": "python3__SAGEMAKER_INTERNAL__arn:aws:sagemaker:us-east-2:429704687514:image/sagemaker-base-python-38"
  },
  "language_info": {
   "codemirror_mode": {
    "name": "ipython",
    "version": 3
   },
   "file_extension": ".py",
   "mimetype": "text/x-python",
   "name": "python",
   "nbconvert_exporter": "python",
   "pygments_lexer": "ipython3",
   "version": "3.8.12"
  }
 },
 "nbformat": 4,
 "nbformat_minor": 5
}
