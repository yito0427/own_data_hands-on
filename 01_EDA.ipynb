{
 "cells": [
  {
   "cell_type": "markdown",
   "id": "be5f498f-927b-464c-9fb4-7637d03b3d04",
   "metadata": {},
   "source": [
    "# EDA\n",
    "\n",
    "データを受領したら、まずはデータを観察します。（Excelやメモ帳でよい）\n",
    "\n",
    "* どのようなデータ項目があるのか\n",
    "* timestampで使う列はどれか\n",
    "* item_idはどれか\n",
    "* targetはどれか\n",
    "\n",
    "* どのタイミングで、いつの未来の予測をしたいのか\n",
    "\n",
    "\n",
    "* 時系列の期間を確認\n",
    "* 欠損値を確認\n",
    "\n",
    "\n",
    "＜その他事前にヒアリングしておくこと＞ヒアリングシート参照\n",
    "* 業務内容\n",
    "* 今の予測の方法\n",
    "* 手が動くか\n",
    "* 最低限達成しなければならない精度\n",
    "* 評価の方法\n"
   ]
  },
  {
   "cell_type": "markdown",
   "id": "fd06cfa7-a346-4b90-956f-3508bd82cad8",
   "metadata": {},
   "source": [
    "https://qiita.com/zumitan/items/dd4bfc7e7d5624c74bee\n",
    "\n",
    "\n",
    "* データのカラム名と意味の確認\n",
    "* データの大きさとデータ型の確認\n",
    "* 欠損値チェック\n",
    "* カラムごとの基礎統計量確認\n",
    "* ヒストグラムによる分布の可視化\n",
    "* 散布図や箱ひげ図を用いた目的変数と、説明変数の関係の可視化\n",
    "* 時系列データであれば、時系列トレンドの可視化\n",
    "* 外れ値の確認"
   ]
  },
  {
   "cell_type": "markdown",
   "id": "38353694-7d0a-48eb-85f8-cab8d91f7033",
   "metadata": {},
   "source": [
    "## EDA\n",
    "\n",
    "＜ここまででわかっていること＞Excelやメモ帳を見て\n",
    "\n",
    "\n",
    "<EDAでみていくこと>\n",
    "各アイテムの\n",
    "* 時系列グラフ\n",
    "* 欠損値状態\n",
    "* \n",
    "\n",
    "\n",
    "次のノートブック 02_Preprocess.ipynb で、どのような加工を行うかがわかればOK"
   ]
  },
  {
   "cell_type": "code",
   "execution_count": null,
   "id": "6b339de1-e7ba-4189-9f8b-90549be8bc35",
   "metadata": {},
   "outputs": [],
   "source": [
    "import pandas as pd"
   ]
  },
  {
   "cell_type": "code",
   "execution_count": null,
   "id": "c54775ed-5176-4306-aca9-5fb5e6661f2f",
   "metadata": {},
   "outputs": [],
   "source": [
    "df = pd.read_csv('./00_own_data/ＡＩ名【２２０６１６＿１２数値ＸＧ】.csv', encoding='cp932')"
   ]
  },
  {
   "cell_type": "code",
   "execution_count": null,
   "id": "4fd66691-b45d-495d-a9e4-b4271f5b0936",
   "metadata": {},
   "outputs": [],
   "source": [
    "df"
   ]
  },
  {
   "cell_type": "code",
   "execution_count": null,
   "id": "bc4fc39d-3634-4986-aa11-9f610f7f5b78",
   "metadata": {},
   "outputs": [],
   "source": [
    "%matplotlib inline"
   ]
  },
  {
   "cell_type": "code",
   "execution_count": null,
   "id": "b89d05b9-4da3-4805-826f-b68d8cd6ada5",
   "metadata": {},
   "outputs": [],
   "source": [
    "df.plot(y='売上数', x='週数', figsize=(15,5))"
   ]
  },
  {
   "cell_type": "code",
   "execution_count": null,
   "id": "a23ae99a-5dba-433c-8d4e-c286424c3a3c",
   "metadata": {},
   "outputs": [],
   "source": [
    "df['週数']"
   ]
  },
  {
   "cell_type": "markdown",
   "id": "d9475454-8c13-4ba8-b472-44c269628db4",
   "metadata": {},
   "source": [
    "* レコード数\n",
    "* unique数\n",
    "* 欠損状況\n",
    "* "
   ]
  },
  {
   "cell_type": "code",
   "execution_count": null,
   "id": "1c4c22fc-3bc5-419e-a4a2-2cb07a26f254",
   "metadata": {},
   "outputs": [],
   "source": [
    "!pip install -U pip"
   ]
  },
  {
   "cell_type": "code",
   "execution_count": null,
   "id": "7d0becfa-10b6-42b1-9eb8-db0286ca7fa7",
   "metadata": {},
   "outputs": [],
   "source": [
    "!pip install pandas -U"
   ]
  },
  {
   "cell_type": "code",
   "execution_count": null,
   "id": "52c0705a-74c7-4174-bced-557f86f8389f",
   "metadata": {},
   "outputs": [],
   "source": [
    "!pip install pandas-profiling"
   ]
  },
  {
   "cell_type": "code",
   "execution_count": null,
   "id": "3e627b40-4268-42c8-a994-93f5e4825e19",
   "metadata": {},
   "outputs": [],
   "source": [
    "from pandas_profiling import ProfileReport"
   ]
  },
  {
   "cell_type": "code",
   "execution_count": null,
   "id": "33a0877c-ceb2-4ad9-944c-272d45899069",
   "metadata": {},
   "outputs": [],
   "source": [
    "profile = ProfileReport(df, title=\"Titanic data profiling Report\")"
   ]
  },
  {
   "cell_type": "code",
   "execution_count": null,
   "id": "1ae6b5f2-c029-43ff-aaa3-3bed4de3dac4",
   "metadata": {},
   "outputs": [],
   "source": [
    "profile"
   ]
  },
  {
   "cell_type": "markdown",
   "id": "3e28cb56-1f62-4d45-b99a-778a942dc17e",
   "metadata": {},
   "source": [
    "## BOkehを使う\n",
    "\n",
    "https://qiita.com/Sampeipei/items/e5223e1452139a2ed142"
   ]
  },
  {
   "cell_type": "code",
   "execution_count": null,
   "id": "8de060e7-1dec-4b60-a089-fad849a27bdf",
   "metadata": {},
   "outputs": [],
   "source": [
    "!pip install bokeh"
   ]
  },
  {
   "cell_type": "code",
   "execution_count": null,
   "id": "009cf140-13e2-4524-ad77-ae7edfe7a637",
   "metadata": {},
   "outputs": [],
   "source": [
    "!conda install Flask==2.0.3 -y"
   ]
  },
  {
   "cell_type": "code",
   "execution_count": null,
   "id": "c4f2cc6f-56f8-4b72-b22b-5ffb7b736dd6",
   "metadata": {},
   "outputs": [],
   "source": [
    "!conda install Jinja2==3.1.1 -y"
   ]
  },
  {
   "cell_type": "code",
   "execution_count": null,
   "id": "56135fc1-6e5d-485e-be42-981f59882fba",
   "metadata": {},
   "outputs": [],
   "source": [
    "from bokeh.plotting import figure, show"
   ]
  },
  {
   "cell_type": "code",
   "execution_count": null,
   "id": "7bda770f-ab06-4968-bc27-e2dcfbfff3d9",
   "metadata": {},
   "outputs": [],
   "source": [
    "from bokeh.io import output_notebook\n"
   ]
  },
  {
   "cell_type": "code",
   "execution_count": null,
   "id": "b0a57203-d2c1-4fdd-9139-2e631124f7ed",
   "metadata": {},
   "outputs": [],
   "source": [
    "from bokeh.models import ColumnDataSource\n"
   ]
  },
  {
   "cell_type": "code",
   "execution_count": null,
   "id": "031a4e28-a267-4482-86fc-ead547afe955",
   "metadata": {},
   "outputs": [],
   "source": [
    "from bokeh.layouts import column"
   ]
  },
  {
   "cell_type": "code",
   "execution_count": null,
   "id": "05363747-4186-4686-baae-e43ff8ce967f",
   "metadata": {},
   "outputs": [],
   "source": [
    "!conda install bokeh -y"
   ]
  },
  {
   "cell_type": "code",
   "execution_count": null,
   "id": "8597ac7d-8ca4-4272-8e5c-b0be6c5314ae",
   "metadata": {},
   "outputs": [],
   "source": [
    "# DataFrameから可視化用のインスタンスを生成する\n",
    "source = ColumnDataSource(df)"
   ]
  },
  {
   "cell_type": "code",
   "execution_count": null,
   "id": "7623c023-fb6d-4457-81f6-1d910fbbc557",
   "metadata": {},
   "outputs": [],
   "source": [
    "pip show jinja2"
   ]
  },
  {
   "cell_type": "code",
   "execution_count": null,
   "id": "ee8ef415-2a83-4b49-aa0a-20bcfece6bd4",
   "metadata": {},
   "outputs": [],
   "source": [
    "pip show Flask"
   ]
  },
  {
   "cell_type": "code",
   "execution_count": null,
   "id": "7533d9f6-05ab-4f5e-9053-d0db292d1293",
   "metadata": {},
   "outputs": [],
   "source": [
    "!pip install Jinja2==3.1.1"
   ]
  },
  {
   "cell_type": "code",
   "execution_count": null,
   "id": "78c1bdc5-11b1-43de-a2c0-f888b2b6a7cb",
   "metadata": {},
   "outputs": [],
   "source": [
    "!pip install Flask==2.1.0"
   ]
  },
  {
   "cell_type": "code",
   "execution_count": null,
   "id": "0bf60a52-fb67-4858-b254-7fa5a8fd4cc7",
   "metadata": {},
   "outputs": [],
   "source": [
    "from jinja2.utils import markupsafe \n",
    "markupsafe.Markup()"
   ]
  },
  {
   "cell_type": "code",
   "execution_count": null,
   "id": "974463ba-ad7f-4548-b188-4bccb8710b5e",
   "metadata": {},
   "outputs": [],
   "source": [
    "pip install --upgrade babel"
   ]
  },
  {
   "cell_type": "code",
   "execution_count": null,
   "id": "baca8924-e52d-4ca7-8cfb-11f678013ed4",
   "metadata": {},
   "outputs": [],
   "source": [
    "pip install --upgrade python-dateutil"
   ]
  },
  {
   "cell_type": "code",
   "execution_count": null,
   "id": "e10605a3-bf33-4e78-b5cc-64a64d6c66d0",
   "metadata": {},
   "outputs": [],
   "source": [
    "pip install --upgrade flask-moment"
   ]
  },
  {
   "cell_type": "code",
   "execution_count": null,
   "id": "ef28d750-3bcd-42fe-9541-aca7cefd2469",
   "metadata": {},
   "outputs": [],
   "source": [
    "pip install --upgrade flask-wtf"
   ]
  },
  {
   "cell_type": "code",
   "execution_count": null,
   "id": "0c83febd-7976-4336-849e-3448712ddbd0",
   "metadata": {},
   "outputs": [],
   "source": [
    "pip install --upgrade flask_sqlalchemy"
   ]
  },
  {
   "cell_type": "code",
   "execution_count": null,
   "id": "979afa72-592a-460b-9d0d-de664024ed2c",
   "metadata": {},
   "outputs": [],
   "source": [
    "!pip freeze | grep flask"
   ]
  },
  {
   "cell_type": "code",
   "execution_count": null,
   "id": "e07378f1-6a11-472a-a227-3df17a8f22ae",
   "metadata": {},
   "outputs": [],
   "source": [
    "!conda uninstall flask -y"
   ]
  },
  {
   "cell_type": "code",
   "execution_count": null,
   "id": "8dde4189-05d9-4cb9-8903-74f832f4a77d",
   "metadata": {},
   "outputs": [],
   "source": [
    "!conda uninstall jinja2 -y"
   ]
  },
  {
   "cell_type": "code",
   "execution_count": null,
   "id": "79285ba6-89f4-4711-b494-fc9afb6ebeff",
   "metadata": {},
   "outputs": [],
   "source": []
  },
  {
   "cell_type": "code",
   "execution_count": null,
   "id": "5ba58aa1-b984-41df-88dd-66b78e0ffd90",
   "metadata": {},
   "outputs": [],
   "source": []
  },
  {
   "cell_type": "code",
   "execution_count": null,
   "id": "7392004c-861a-4a62-b6d6-1bb808dd8e53",
   "metadata": {},
   "outputs": [],
   "source": []
  },
  {
   "cell_type": "code",
   "execution_count": null,
   "id": "ab7c0e14-11ca-4a28-b5be-40d275521d56",
   "metadata": {},
   "outputs": [],
   "source": [
    "!pip install pandas-bokeh"
   ]
  },
  {
   "cell_type": "code",
   "execution_count": 4,
   "id": "d8a31e54-f57d-4d66-b857-c5164ca5d5c5",
   "metadata": {},
   "outputs": [
    {
     "ename": "ImportError",
     "evalue": "cannot import name 'Template' from 'jinja2' (unknown location)",
     "output_type": "error",
     "traceback": [
      "\u001b[0;31m---------------------------------------------------------------------------\u001b[0m",
      "\u001b[0;31mImportError\u001b[0m                               Traceback (most recent call last)",
      "\u001b[0;32m<ipython-input-4-2d5eeb3798df>\u001b[0m in \u001b[0;36m<module>\u001b[0;34m\u001b[0m\n\u001b[0;32m----> 1\u001b[0;31m \u001b[0;32mimport\u001b[0m \u001b[0mpandas_bokeh\u001b[0m\u001b[0;34m\u001b[0m\u001b[0;34m\u001b[0m\u001b[0m\n\u001b[0m\u001b[1;32m      2\u001b[0m \u001b[0mpandas_bokeh\u001b[0m\u001b[0;34m.\u001b[0m\u001b[0moutput_notebook\u001b[0m\u001b[0;34m(\u001b[0m\u001b[0;34m)\u001b[0m\u001b[0;34m\u001b[0m\u001b[0;34m\u001b[0m\u001b[0m\n",
      "\u001b[0;32m/opt/conda/lib/python3.7/site-packages/pandas_bokeh/__init__.py\u001b[0m in \u001b[0;36m<module>\u001b[0;34m\u001b[0m\n\u001b[1;32m      4\u001b[0m \u001b[0;32mimport\u001b[0m \u001b[0msys\u001b[0m\u001b[0;34m\u001b[0m\u001b[0;34m\u001b[0m\u001b[0m\n\u001b[1;32m      5\u001b[0m \u001b[0;34m\u001b[0m\u001b[0m\n\u001b[0;32m----> 6\u001b[0;31m \u001b[0;32mfrom\u001b[0m \u001b[0mbokeh\u001b[0m\u001b[0;34m.\u001b[0m\u001b[0mio\u001b[0m \u001b[0;32mimport\u001b[0m \u001b[0msave\u001b[0m\u001b[0;34m\u001b[0m\u001b[0;34m\u001b[0m\u001b[0m\n\u001b[0m\u001b[1;32m      7\u001b[0m \u001b[0;32mfrom\u001b[0m \u001b[0mbokeh\u001b[0m\u001b[0;34m.\u001b[0m\u001b[0mlayouts\u001b[0m \u001b[0;32mimport\u001b[0m \u001b[0mcolumn\u001b[0m\u001b[0;34m,\u001b[0m \u001b[0mlayout\u001b[0m\u001b[0;34m,\u001b[0m \u001b[0mrow\u001b[0m\u001b[0;34m\u001b[0m\u001b[0;34m\u001b[0m\u001b[0m\n\u001b[1;32m      8\u001b[0m \u001b[0;34m\u001b[0m\u001b[0m\n",
      "\u001b[0;32m/opt/conda/lib/python3.7/site-packages/bokeh/io/__init__.py\u001b[0m in \u001b[0;36m<module>\u001b[0;34m\u001b[0m\n\u001b[1;32m     22\u001b[0m \u001b[0;34m\u001b[0m\u001b[0m\n\u001b[1;32m     23\u001b[0m \u001b[0;31m# Bokeh imports\u001b[0m\u001b[0;34m\u001b[0m\u001b[0;34m\u001b[0m\u001b[0;34m\u001b[0m\u001b[0m\n\u001b[0;32m---> 24\u001b[0;31m \u001b[0;32mfrom\u001b[0m \u001b[0;34m.\u001b[0m\u001b[0mdoc\u001b[0m \u001b[0;32mimport\u001b[0m \u001b[0mcurdoc\u001b[0m\u001b[0;34m\u001b[0m\u001b[0;34m\u001b[0m\u001b[0m\n\u001b[0m\u001b[1;32m     25\u001b[0m \u001b[0;32mfrom\u001b[0m \u001b[0;34m.\u001b[0m\u001b[0mexport\u001b[0m \u001b[0;32mimport\u001b[0m \u001b[0mexport_png\u001b[0m\u001b[0;34m,\u001b[0m \u001b[0mexport_svg\u001b[0m\u001b[0;34m,\u001b[0m \u001b[0mexport_svgs\u001b[0m\u001b[0;34m\u001b[0m\u001b[0;34m\u001b[0m\u001b[0m\n\u001b[1;32m     26\u001b[0m \u001b[0;32mfrom\u001b[0m \u001b[0;34m.\u001b[0m\u001b[0mnotebook\u001b[0m \u001b[0;32mimport\u001b[0m \u001b[0minstall_jupyter_hooks\u001b[0m\u001b[0;34m,\u001b[0m \u001b[0minstall_notebook_hook\u001b[0m\u001b[0;34m,\u001b[0m \u001b[0mpush_notebook\u001b[0m\u001b[0;34m\u001b[0m\u001b[0;34m\u001b[0m\u001b[0m\n",
      "\u001b[0;32m/opt/conda/lib/python3.7/site-packages/bokeh/io/doc.py\u001b[0m in \u001b[0;36m<module>\u001b[0;34m\u001b[0m\n\u001b[1;32m     27\u001b[0m \u001b[0;34m\u001b[0m\u001b[0m\n\u001b[1;32m     28\u001b[0m \u001b[0;31m# Bokeh imports\u001b[0m\u001b[0;34m\u001b[0m\u001b[0;34m\u001b[0m\u001b[0;34m\u001b[0m\u001b[0m\n\u001b[0;32m---> 29\u001b[0;31m \u001b[0;32mfrom\u001b[0m \u001b[0;34m.\u001b[0m\u001b[0mstate\u001b[0m \u001b[0;32mimport\u001b[0m \u001b[0mcurstate\u001b[0m\u001b[0;34m\u001b[0m\u001b[0;34m\u001b[0m\u001b[0m\n\u001b[0m\u001b[1;32m     30\u001b[0m \u001b[0;34m\u001b[0m\u001b[0m\n\u001b[1;32m     31\u001b[0m \u001b[0;32mif\u001b[0m \u001b[0mTYPE_CHECKING\u001b[0m\u001b[0;34m:\u001b[0m\u001b[0;34m\u001b[0m\u001b[0;34m\u001b[0m\u001b[0m\n",
      "\u001b[0;32m/opt/conda/lib/python3.7/site-packages/bokeh/io/state.py\u001b[0m in \u001b[0;36m<module>\u001b[0;34m\u001b[0m\n\u001b[1;32m     51\u001b[0m \u001b[0;31m# Bokeh imports\u001b[0m\u001b[0;34m\u001b[0m\u001b[0;34m\u001b[0m\u001b[0;34m\u001b[0m\u001b[0m\n\u001b[1;32m     52\u001b[0m \u001b[0;32mfrom\u001b[0m \u001b[0;34m.\u001b[0m\u001b[0;34m.\u001b[0m\u001b[0mcore\u001b[0m\u001b[0;34m.\u001b[0m\u001b[0mtypes\u001b[0m \u001b[0;32mimport\u001b[0m \u001b[0mPathLike\u001b[0m\u001b[0;34m\u001b[0m\u001b[0;34m\u001b[0m\u001b[0m\n\u001b[0;32m---> 53\u001b[0;31m \u001b[0;32mfrom\u001b[0m \u001b[0;34m.\u001b[0m\u001b[0;34m.\u001b[0m\u001b[0mdocument\u001b[0m \u001b[0;32mimport\u001b[0m \u001b[0mDocument\u001b[0m\u001b[0;34m\u001b[0m\u001b[0;34m\u001b[0m\u001b[0m\n\u001b[0m\u001b[1;32m     54\u001b[0m \u001b[0;32mfrom\u001b[0m \u001b[0;34m.\u001b[0m\u001b[0;34m.\u001b[0m\u001b[0mresources\u001b[0m \u001b[0;32mimport\u001b[0m \u001b[0mResources\u001b[0m\u001b[0;34m,\u001b[0m \u001b[0mResourcesMode\u001b[0m\u001b[0;34m\u001b[0m\u001b[0;34m\u001b[0m\u001b[0m\n\u001b[1;32m     55\u001b[0m \u001b[0;34m\u001b[0m\u001b[0m\n",
      "\u001b[0;32m/opt/conda/lib/python3.7/site-packages/bokeh/document/__init__.py\u001b[0m in \u001b[0;36m<module>\u001b[0;34m\u001b[0m\n\u001b[1;32m     48\u001b[0m \u001b[0;31m#-----------------------------------------------------------------------------\u001b[0m\u001b[0;34m\u001b[0m\u001b[0;34m\u001b[0m\u001b[0;34m\u001b[0m\u001b[0m\n\u001b[1;32m     49\u001b[0m \u001b[0;34m\u001b[0m\u001b[0m\n\u001b[0;32m---> 50\u001b[0;31m \u001b[0;32mfrom\u001b[0m \u001b[0;34m.\u001b[0m\u001b[0mdocument\u001b[0m \u001b[0;32mimport\u001b[0m \u001b[0mDEFAULT_TITLE\u001b[0m \u001b[0;34m;\u001b[0m \u001b[0mDEFAULT_TITLE\u001b[0m\u001b[0;34m\u001b[0m\u001b[0;34m\u001b[0m\u001b[0m\n\u001b[0m\u001b[1;32m     51\u001b[0m \u001b[0;32mfrom\u001b[0m \u001b[0;34m.\u001b[0m\u001b[0mdocument\u001b[0m \u001b[0;32mimport\u001b[0m \u001b[0mDocument\u001b[0m \u001b[0;34m;\u001b[0m \u001b[0mDocument\u001b[0m\u001b[0;34m\u001b[0m\u001b[0;34m\u001b[0m\u001b[0m\n\u001b[1;32m     52\u001b[0m \u001b[0;32mfrom\u001b[0m \u001b[0;34m.\u001b[0m\u001b[0mlocking\u001b[0m \u001b[0;32mimport\u001b[0m \u001b[0mwithout_document_lock\u001b[0m \u001b[0;34m;\u001b[0m \u001b[0mwithout_document_lock\u001b[0m\u001b[0;34m\u001b[0m\u001b[0;34m\u001b[0m\u001b[0m\n",
      "\u001b[0;32m/opt/conda/lib/python3.7/site-packages/bokeh/document/document.py\u001b[0m in \u001b[0;36m<module>\u001b[0;34m\u001b[0m\n\u001b[1;32m     49\u001b[0m \u001b[0;34m\u001b[0m\u001b[0m\n\u001b[1;32m     50\u001b[0m \u001b[0;31m# External imports\u001b[0m\u001b[0;34m\u001b[0m\u001b[0;34m\u001b[0m\u001b[0;34m\u001b[0m\u001b[0m\n\u001b[0;32m---> 51\u001b[0;31m \u001b[0;32mfrom\u001b[0m \u001b[0mjinja2\u001b[0m \u001b[0;32mimport\u001b[0m \u001b[0mTemplate\u001b[0m\u001b[0;34m\u001b[0m\u001b[0;34m\u001b[0m\u001b[0m\n\u001b[0m\u001b[1;32m     52\u001b[0m \u001b[0;34m\u001b[0m\u001b[0m\n\u001b[1;32m     53\u001b[0m \u001b[0;31m# Bokeh imports\u001b[0m\u001b[0;34m\u001b[0m\u001b[0;34m\u001b[0m\u001b[0;34m\u001b[0m\u001b[0m\n",
      "\u001b[0;31mImportError\u001b[0m: cannot import name 'Template' from 'jinja2' (unknown location)"
     ]
    }
   ],
   "source": [
    "import pandas_bokeh\n",
    "pandas_bokeh.output_notebook()"
   ]
  },
  {
   "cell_type": "code",
   "execution_count": 2,
   "id": "f7f5d2c0-ab33-430b-9daf-b72fe8dd7808",
   "metadata": {},
   "outputs": [
    {
     "name": "stdout",
     "output_type": "stream",
     "text": [
      "Requirement already satisfied: Flask==2.0.3 in /opt/conda/lib/python3.7/site-packages (2.0.3)\n",
      "Requirement already satisfied: Werkzeug>=2.0 in /opt/conda/lib/python3.7/site-packages (from Flask==2.0.3) (2.2.1)\n",
      "Requirement already satisfied: itsdangerous>=2.0 in /opt/conda/lib/python3.7/site-packages (from Flask==2.0.3) (2.1.2)\n",
      "Requirement already satisfied: Jinja2>=3.0 in /opt/conda/lib/python3.7/site-packages (from Flask==2.0.3) (3.1.1)\n",
      "Requirement already satisfied: click>=7.1.2 in /opt/conda/lib/python3.7/site-packages (from Flask==2.0.3) (8.1.3)\n",
      "Requirement already satisfied: importlib-metadata in /opt/conda/lib/python3.7/site-packages (from click>=7.1.2->Flask==2.0.3) (1.5.0)\n",
      "Requirement already satisfied: MarkupSafe>=2.0 in /opt/conda/lib/python3.7/site-packages (from Jinja2>=3.0->Flask==2.0.3) (2.1.1)\n",
      "Requirement already satisfied: zipp>=0.5 in /opt/conda/lib/python3.7/site-packages (from importlib-metadata->click>=7.1.2->Flask==2.0.3) (2.2.0)\n",
      "\u001b[33mWARNING: Running pip as the 'root' user can result in broken permissions and conflicting behaviour with the system package manager. It is recommended to use a virtual environment instead: https://pip.pypa.io/warnings/venv\u001b[0m\u001b[33m\n",
      "\u001b[0m"
     ]
    }
   ],
   "source": [
    "!pip install Flask==2.0.3"
   ]
  },
  {
   "cell_type": "code",
   "execution_count": 3,
   "id": "644e140e-baeb-473b-a646-dd24b235ab84",
   "metadata": {},
   "outputs": [
    {
     "name": "stdout",
     "output_type": "stream",
     "text": [
      "Requirement already satisfied: Jinja2==3.1.1 in /opt/conda/lib/python3.7/site-packages (3.1.1)\n",
      "Requirement already satisfied: MarkupSafe>=2.0 in /opt/conda/lib/python3.7/site-packages (from Jinja2==3.1.1) (2.1.1)\n",
      "\u001b[33mWARNING: Running pip as the 'root' user can result in broken permissions and conflicting behaviour with the system package manager. It is recommended to use a virtual environment instead: https://pip.pypa.io/warnings/venv\u001b[0m\u001b[33m\n",
      "\u001b[0m"
     ]
    }
   ],
   "source": [
    "!pip install Jinja2==3.1.1"
   ]
  },
  {
   "cell_type": "code",
   "execution_count": null,
   "id": "3e22a079-f937-45a6-a4ed-581297d936cd",
   "metadata": {},
   "outputs": [],
   "source": []
  }
 ],
 "metadata": {
  "instance_type": "ml.t3.medium",
  "kernelspec": {
   "display_name": "Python 3 (Data Science)",
   "language": "python",
   "name": "python3__SAGEMAKER_INTERNAL__arn:aws:sagemaker:us-east-2:429704687514:image/datascience-1.0"
  },
  "language_info": {
   "codemirror_mode": {
    "name": "ipython",
    "version": 3
   },
   "file_extension": ".py",
   "mimetype": "text/x-python",
   "name": "python",
   "nbconvert_exporter": "python",
   "pygments_lexer": "ipython3",
   "version": "3.7.10"
  }
 },
 "nbformat": 4,
 "nbformat_minor": 5
}
