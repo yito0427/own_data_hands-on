{
 "cells": [
  {
   "cell_type": "markdown",
   "id": "d7052731-df96-46fd-87dd-4bbe7b62e56e",
   "metadata": {},
   "source": [
    "# Amazon Forecastを実行していく\n",
    "\n",
    "Amazon Forecast　にimportする状態にデータを加工する\n",
    "\n",
    "* 1:targetデータのみで実施 - baseline\n",
    "* 2:related, metaデータを入れて、AutoML実行\n",
    "* 3:related, metaデータを入れて、AutoPredictor実行\n",
    "\n",
    "\n",
    "* import\n",
    "* training\n",
    "* forecast\n",
    "* forecast_export\n",
    "* download from S3"
   ]
  },
  {
   "cell_type": "code",
   "execution_count": null,
   "id": "513142b8-fdcb-4d41-afc6-3d3b2aa4ff93",
   "metadata": {},
   "outputs": [],
   "source": []
  }
 ],
 "metadata": {
  "instance_type": "ml.t3.medium",
  "kernelspec": {
   "display_name": "Python 3 (Data Science)",
   "language": "python",
   "name": "python3__SAGEMAKER_INTERNAL__arn:aws:sagemaker:us-east-2:429704687514:image/datascience-1.0"
  },
  "language_info": {
   "codemirror_mode": {
    "name": "ipython",
    "version": 3
   },
   "file_extension": ".py",
   "mimetype": "text/x-python",
   "name": "python",
   "nbconvert_exporter": "python",
   "pygments_lexer": "ipython3",
   "version": "3.7.10"
  }
 },
 "nbformat": 4,
 "nbformat_minor": 5
}
